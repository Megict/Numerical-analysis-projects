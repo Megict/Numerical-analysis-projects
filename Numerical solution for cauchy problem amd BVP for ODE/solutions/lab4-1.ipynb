{
 "cells": [
  {
   "cell_type": "code",
   "execution_count": 7,
   "metadata": {},
   "outputs": [],
   "source": [
    "import numpy as np\n",
    "x = var(\"x\")"
   ]
  },
  {
   "cell_type": "markdown",
   "metadata": {},
   "source": [
    "### Заданное уравнение:"
   ]
  },
  {
   "cell_type": "markdown",
   "metadata": {},
   "source": [
    "y'' - 4xy' + (4*x^2 - 2)y = 0"
   ]
  },
  {
   "cell_type": "markdown",
   "metadata": {},
   "source": [
    "y(0) == 1  \n",
    "y'(0) == 1  \n",
    "x in [0,1], h = 0.1"
   ]
  },
  {
   "cell_type": "code",
   "execution_count": 6,
   "metadata": {},
   "outputs": [],
   "source": [
    "#точное решение\n",
    "f = (1+x)*e**(x**2)"
   ]
  },
  {
   "cell_type": "markdown",
   "metadata": {},
   "source": [
    "y' = z  \n",
    "z' = 4xz - (4x^2-2)y  \n",
    "y(0) == 1  \n",
    "z(0) == 1  "
   ]
  },
  {
   "cell_type": "code",
   "execution_count": 5,
   "metadata": {},
   "outputs": [],
   "source": [
    "x,y,z = var(\"x,y,z\")\n",
    "fy = z\n",
    "fz = 4*x*z - (4*x**2-2)*y\n",
    "h = 0.1\n",
    "a = 0\n",
    "b = 1\n",
    "y0 = 1\n",
    "z0 = 1"
   ]
  },
  {
   "cell_type": "code",
   "execution_count": null,
   "metadata": {},
   "outputs": [],
   "source": []
  },
  {
   "cell_type": "code",
   "execution_count": null,
   "metadata": {},
   "outputs": [],
   "source": []
  },
  {
   "cell_type": "code",
   "execution_count": 1,
   "metadata": {},
   "outputs": [],
   "source": [
    "def runge_kutta_4(x0,xl,y0,z0,h,eps = 0.001):\n",
    "    xcur = x0 #идем из 0 с шагом h\n",
    "    ycur = y0\n",
    "    zcur = z0\n",
    "\n",
    "\n",
    "    result = [(xcur,ycur,zcur)]\n",
    "\n",
    "    while xcur + h < xl + eps:\n",
    "\n",
    "        K1 = h*fy(x = xcur,y = ycur, z = zcur)\n",
    "        L1 = h*fz(x = xcur,y = ycur, z = zcur)\n",
    "\n",
    "        K2 = h*fy(x = xcur + 0.5*h,y = ycur + 0.5*K1, z = zcur + 0.5*L1)\n",
    "        L2 = h*fz(x = xcur + 0.5*h,y = ycur + 0.5*K1, z = zcur + 0.5*L1)\n",
    "\n",
    "        K3 = h*fy(x = xcur + 0.5*h,y = ycur + 0.5*K2, z = zcur + 0.5*L2)\n",
    "        L3 = h*fz(x = xcur + 0.5*h,y = ycur + 0.5*K2, z = zcur + 0.5*L2)\n",
    "\n",
    "        K4 = h*fy(x = xcur + h,y = ycur + K3, z = zcur + L3)\n",
    "        L4 = h*fz(x = xcur + h,y = ycur + K3, z = zcur + L3)\n",
    "\n",
    "        dy = (1/6)*(K1 + 2*K2 + 2*K3 + K4)\n",
    "        dz = (1/6)*(L1 + 2*L2 + 2*L3 + L4)\n",
    "\n",
    "\n",
    "        xcur = xcur + h\n",
    "        ycur = ycur + dy\n",
    "        zcur = zcur + dz\n",
    "\n",
    "        result.append((xcur.n(),ycur.n(),zcur.n()))\n",
    "\n",
    "    return result "
   ]
  },
  {
   "cell_type": "markdown",
   "metadata": {},
   "source": [
    "Решаем методом РК4"
   ]
  },
  {
   "cell_type": "code",
   "execution_count": 9,
   "metadata": {},
   "outputs": [
    {
     "data": {
      "image/png": "[encoded data removed]",
      "text/plain": [
       "Graphics object consisting of 2 graphics primitives"
      ]
     },
     "metadata": {},
     "output_type": "display_data"
    }
   ],
   "source": [
    "res = runge_kutta_4(a,b,y0,z0,0.1)\n",
    "l1 = ([(a[0],a[1]) for a in res])\n",
    "show(line(l1) + plot(f,color = \"red\",xmin = 0,xmax = 1))"
   ]
  },
  {
   "cell_type": "code",
   "execution_count": 15,
   "metadata": {},
   "outputs": [],
   "source": [
    "def vaWith0 (pts, p,eps = 1e-5):\n",
    "    for k in pts:\n",
    "        if(abs(k[0] - p) < eps):#runge_kutta_4\n",
    "            return k[1]\n",
    "\n",
    "def errSqAvg(func,pts): #счет средней разности\n",
    "    sum = 0\n",
    "    for i in range(len(pts)):\n",
    "        \n",
    "        sum += abs(pts[i][1] - func(x = pts[i][0]))\n",
    "    return sum/len(pts)\n",
    "\n",
    "def errSqAvgRR(func,pts1,pts2): #счет средней разности\n",
    "    sum = 0\n",
    "    for i in range(len(pts1)):\n",
    "        \n",
    "        sum += abs(pts1[i][1] - func(p = pts1[i][0],pts = pts2))\n",
    "    return sum/len(pts1)\n",
    "\n",
    "def runge_rumbert_error(res1, #менее точный результат\n",
    "                        res2, #более точный результат\n",
    "                        k, #различие в шаге (k2/k1)\n",
    "                        order): #порядок точности метода\n",
    "    #счет ошибки методом Рунге-Ромберга\n",
    "    dif = errSqAvgRR(vaWith0,res1,res2)\n",
    "    err = (dif)/(k**order - 1)\n",
    "    \n",
    "    return abs(err)"
   ]
  },
  {
   "cell_type": "code",
   "execution_count": null,
   "metadata": {},
   "outputs": [],
   "source": []
  },
  {
   "cell_type": "code",
   "execution_count": 39,
   "metadata": {},
   "outputs": [
    {
     "data": {
      "text/html": [
       "<html><script type=\"math/tex; mode=display\">\\newcommand{\\Bold}[1]{\\mathbf{#1}}\\verb|Ошибка|\\phantom{\\verb!x!}\\verb|(сравнение|\\phantom{\\verb!x!}\\verb|с|\\phantom{\\verb!x!}\\verb|истинным|\\phantom{\\verb!x!}\\verb|решением)|\\phantom{\\verb!x!}\\verb|=|\\phantom{\\verb!x!}\\verb|0.00008772534833|</script></html>"
      ],
      "text/latex": [
       "\\begin{math}\n",
       "\\newcommand{\\Bold}[1]{\\mathbf{#1}}\\verb|Ошибка|\\phantom{\\verb!x!}\\verb|(сравнение|\\phantom{\\verb!x!}\\verb|с|\\phantom{\\verb!x!}\\verb|истинным|\\phantom{\\verb!x!}\\verb|решением)|\\phantom{\\verb!x!}\\verb|=|\\phantom{\\verb!x!}\\verb|0.00008772534833|\n",
       "\\end{math}"
      ],
      "text/plain": [
       "'Ошибка (сравнение с истинным решением) = 0.00008772534833'"
      ]
     },
     "metadata": {},
     "output_type": "display_data"
    },
    {
     "data": {
      "text/html": [
       "<html><script type=\"math/tex; mode=display\">\\newcommand{\\Bold}[1]{\\mathbf{#1}}\\verb\"Ошибка\"\\phantom{\\verb!x!}\\verb\"(Рунге-Ромберг\"\\phantom{\\verb!x!}\\verb\"|\"\\phantom{\\verb!x!}\\verb\"0.01)\"\\phantom{\\verb!x!}\\verb\"=\"\\phantom{\\verb!x!}\\verb\"0.00008771491126\"</script></html>"
      ],
      "text/latex": [
       "\\begin{math}\n",
       "\\newcommand{\\Bold}[1]{\\mathbf{#1}}\\verb\"Ошибка\"\\phantom{\\verb!x!}\\verb\"(Рунге-Ромберг\"\\phantom{\\verb!x!}\\verb\"|\"\\phantom{\\verb!x!}\\verb\"0.01)\"\\phantom{\\verb!x!}\\verb\"=\"\\phantom{\\verb!x!}\\verb\"0.00008771491126\"\n",
       "\\end{math}"
      ],
      "text/plain": [
       "'Ошибка (Рунге-Ромберг | 0.01) = 0.00008771491126'"
      ]
     },
     "metadata": {},
     "output_type": "display_data"
    }
   ],
   "source": [
    "show(\"Ошибка (сравнение с истинным решением) = {}\".format(errSqAvg(f,runge_kutta_4(a,b,y0,z0,h)).n(digits = 10)))\n",
    "show(\"Ошибка (Рунге-Ромберг | 0.01) = {}\".format(runge_rumbert_error(runge_kutta_4(a,b,y0,z0,h),runge_kutta_4(a,b,y0,z0,h*0.1),0.01,4).n(digits = 10)))"
   ]
  },
  {
   "cell_type": "code",
   "execution_count": null,
   "metadata": {},
   "outputs": [],
   "source": []
  },
  {
   "cell_type": "code",
   "execution_count": 3,
   "metadata": {},
   "outputs": [],
   "source": [
    "def euler(x0,xl,y0,z0,h,eps = 0.01): #первый улучшенный 2 порядок\n",
    "    xcur = x0 #идем из 0 с шагом h\n",
    "    ycur = y0\n",
    "    zcur = z0\n",
    "\n",
    "\n",
    "    result = [(xcur,ycur,zcur)]\n",
    "\n",
    "    while xcur + h < xl + eps:\n",
    "\n",
    "        dhx = h/2\n",
    "        dhy = (h/2)*fy(x = xcur,y = ycur, z = zcur)\n",
    "        dhz = (h/2)*fz(x = xcur,y = ycur, z = zcur)\n",
    "        \n",
    "        dy = h*fy(x = xcur + dhx,y = ycur + dhy, z = zcur + dhz)\n",
    "        dz = h*fz(x = xcur + dhx,y = ycur + dhy, z = zcur + dhz)\n",
    "\n",
    "\n",
    "        xcur = xcur + h\n",
    "        ycur = ycur + dy\n",
    "        zcur = zcur + dz\n",
    "\n",
    "        result.append((xcur.n(),ycur.n(),zcur.n()))\n",
    "\n",
    "    return result "
   ]
  },
  {
   "cell_type": "code",
   "execution_count": 14,
   "metadata": {},
   "outputs": [],
   "source": [
    "h1 = 0.01"
   ]
  },
  {
   "cell_type": "code",
   "execution_count": null,
   "metadata": {},
   "outputs": [],
   "source": []
  },
  {
   "cell_type": "markdown",
   "metadata": {},
   "source": [
    "https://ru.wikipedia.org/wiki/Метод_Эйлера"
   ]
  },
  {
   "cell_type": "code",
   "execution_count": 8,
   "metadata": {},
   "outputs": [
    {
     "data": {
      "image/png": "[encoded data removed]",
      "text/plain": [
       "Graphics object consisting of 2 graphics primitives"
      ]
     },
     "metadata": {},
     "output_type": "display_data"
    }
   ],
   "source": [
    "res = euler(a,b,y0,z0,0.1)\n",
    "\n",
    "l1 = ([(a[0],a[1]) for a in res])\n",
    "show(line(l1) + plot(f,color = \"red\",xmin = 0,xmax = 1))"
   ]
  },
  {
   "cell_type": "code",
   "execution_count": 16,
   "metadata": {},
   "outputs": [
    {
     "data": {
      "text/html": [
       "<html><script type=\"math/tex; mode=display\">\\newcommand{\\Bold}[1]{\\mathbf{#1}}\\verb|Ошибка|\\phantom{\\verb!x!}\\verb|(сравнение|\\phantom{\\verb!x!}\\verb|с|\\phantom{\\verb!x!}\\verb|истинным|\\phantom{\\verb!x!}\\verb|решением)|\\phantom{\\verb!x!}\\verb|=|\\phantom{\\verb!x!}\\verb|0.03102|</script></html>"
      ],
      "text/latex": [
       "\\begin{math}\n",
       "\\newcommand{\\Bold}[1]{\\mathbf{#1}}\\verb|Ошибка|\\phantom{\\verb!x!}\\verb|(сравнение|\\phantom{\\verb!x!}\\verb|с|\\phantom{\\verb!x!}\\verb|истинным|\\phantom{\\verb!x!}\\verb|решением)|\\phantom{\\verb!x!}\\verb|=|\\phantom{\\verb!x!}\\verb|0.03102|\n",
       "\\end{math}"
      ],
      "text/plain": [
       "'Ошибка (сравнение с истинным решением) = 0.03102'"
      ]
     },
     "metadata": {},
     "output_type": "display_data"
    },
    {
     "data": {
      "text/html": [
       "<html><script type=\"math/tex; mode=display\">\\newcommand{\\Bold}[1]{\\mathbf{#1}}\\verb\"Ошибка\"\\phantom{\\verb!x!}\\verb\"(Рунге-Ромберг\"\\phantom{\\verb!x!}\\verb\"|\"\\phantom{\\verb!x!}\\verb\"0.01)\"\\phantom{\\verb!x!}\\verb\"=\"\\phantom{\\verb!x!}\\verb\"0.03102\"</script></html>"
      ],
      "text/latex": [
       "\\begin{math}\n",
       "\\newcommand{\\Bold}[1]{\\mathbf{#1}}\\verb\"Ошибка\"\\phantom{\\verb!x!}\\verb\"(Рунге-Ромберг\"\\phantom{\\verb!x!}\\verb\"|\"\\phantom{\\verb!x!}\\verb\"0.01)\"\\phantom{\\verb!x!}\\verb\"=\"\\phantom{\\verb!x!}\\verb\"0.03102\"\n",
       "\\end{math}"
      ],
      "text/plain": [
       "'Ошибка (Рунге-Ромберг | 0.01) = 0.03102'"
      ]
     },
     "metadata": {},
     "output_type": "display_data"
    }
   ],
   "source": [
    "show(\"Ошибка (сравнение с истинным решением) = {}\".format(errSqAvg(f,euler(a,b,y0,z0,h)).n(digits = 4)))\n",
    "show(\"Ошибка (Рунге-Ромберг | 0.01) = {}\".format(runge_rumbert_error(euler(a,b,y0,z0,h),euler(a,b,y0,z0,h*0.01),0.01,2).n(digits = 4)))"
   ]
  },
  {
   "cell_type": "code",
   "execution_count": 17,
   "metadata": {},
   "outputs": [],
   "source": [
    "def euler_koshi(x0,xl,y0,z0,h,eps = 0.01): #Эйлер - Коши | 2 порядок\n",
    "    xcur = x0 #идем из 0 с шагом h\n",
    "    ycur = y0\n",
    "    zcur = z0\n",
    "\n",
    "\n",
    "    result = [(xcur,ycur,zcur)]\n",
    "\n",
    "    while xcur + h < xl + eps:\n",
    "\n",
    "        dx = h\n",
    "        estdy = (h)*fy(x = xcur,y = ycur, z = zcur)\n",
    "        estdz = (h)*fz(x = xcur,y = ycur, z = zcur)\n",
    "        \n",
    "        dy = (h/2)*(fy(x = xcur,y = ycur, z = zcur) + fy(x = xcur + dx,y = ycur + estdy, z = zcur + estdz))\n",
    "        dz = (h/2)*(fz(x = xcur,y = ycur, z = zcur) + fz(x = xcur + dx,y = ycur + estdy, z = zcur + estdz))\n",
    "\n",
    "\n",
    "        xcur = xcur + h\n",
    "        ycur = ycur + dy\n",
    "        zcur = zcur + dz\n",
    "\n",
    "        result.append((xcur.n(),ycur.n(),zcur.n()))\n",
    "\n",
    "    return result "
   ]
  },
  {
   "cell_type": "code",
   "execution_count": 18,
   "metadata": {},
   "outputs": [
    {
     "data": {
      "image/png": "[encoded data removed]",
      "text/plain": [
       "Graphics object consisting of 2 graphics primitives"
      ]
     },
     "metadata": {},
     "output_type": "display_data"
    }
   ],
   "source": [
    "res = euler_koshi(a,b,y0,z0,0.1)\n",
    "\n",
    "l1 = ([(a[0],a[1]) for a in res])\n",
    "show(line(l1) + plot(f,color = \"red\",xmin = 0,xmax = 1))"
   ]
  },
  {
   "cell_type": "code",
   "execution_count": 19,
   "metadata": {},
   "outputs": [
    {
     "data": {
      "text/html": [
       "<html><script type=\"math/tex; mode=display\">\\newcommand{\\Bold}[1]{\\mathbf{#1}}\\verb|Ошибка|\\phantom{\\verb!x!}\\verb|(сравнение|\\phantom{\\verb!x!}\\verb|с|\\phantom{\\verb!x!}\\verb|истинным|\\phantom{\\verb!x!}\\verb|решением)|\\phantom{\\verb!x!}\\verb|=|\\phantom{\\verb!x!}\\verb|0.02710|</script></html>"
      ],
      "text/latex": [
       "\\begin{math}\n",
       "\\newcommand{\\Bold}[1]{\\mathbf{#1}}\\verb|Ошибка|\\phantom{\\verb!x!}\\verb|(сравнение|\\phantom{\\verb!x!}\\verb|с|\\phantom{\\verb!x!}\\verb|истинным|\\phantom{\\verb!x!}\\verb|решением)|\\phantom{\\verb!x!}\\verb|=|\\phantom{\\verb!x!}\\verb|0.02710|\n",
       "\\end{math}"
      ],
      "text/plain": [
       "'Ошибка (сравнение с истинным решением) = 0.02710'"
      ]
     },
     "metadata": {},
     "output_type": "display_data"
    },
    {
     "data": {
      "text/html": [
       "<html><script type=\"math/tex; mode=display\">\\newcommand{\\Bold}[1]{\\mathbf{#1}}\\verb\"Ошибка\"\\phantom{\\verb!x!}\\verb\"(Рунге-Ромберг\"\\phantom{\\verb!x!}\\verb\"|\"\\phantom{\\verb!x!}\\verb\"0.01)\"\\phantom{\\verb!x!}\\verb\"=\"\\phantom{\\verb!x!}\\verb\"0.02710\"</script></html>"
      ],
      "text/latex": [
       "\\begin{math}\n",
       "\\newcommand{\\Bold}[1]{\\mathbf{#1}}\\verb\"Ошибка\"\\phantom{\\verb!x!}\\verb\"(Рунге-Ромберг\"\\phantom{\\verb!x!}\\verb\"|\"\\phantom{\\verb!x!}\\verb\"0.01)\"\\phantom{\\verb!x!}\\verb\"=\"\\phantom{\\verb!x!}\\verb\"0.02710\"\n",
       "\\end{math}"
      ],
      "text/plain": [
       "'Ошибка (Рунге-Ромберг | 0.01) = 0.02710'"
      ]
     },
     "metadata": {},
     "output_type": "display_data"
    }
   ],
   "source": [
    "show(\"Ошибка (сравнение с истинным решением) = {}\".format(errSqAvg(f,euler_koshi(a,b,y0,z0,h)).n(digits = 4)))\n",
    "show(\"Ошибка (Рунге-Ромберг | 0.01) = {}\".format(runge_rumbert_error(euler_koshi(a,b,y0,z0,h),euler_koshi(a,b,y0,z0,h*0.01),0.01,2).n(digits = 4)))"
   ]
  },
  {
   "cell_type": "code",
   "execution_count": null,
   "metadata": {},
   "outputs": [],
   "source": []
  },
  {
   "cell_type": "code",
   "execution_count": 11,
   "metadata": {},
   "outputs": [],
   "source": [
    "def adams(x0,xl,y0,z0,h,start = 0.4,start_method = euler,eps = 0.01):\n",
    "   \n",
    "    startlen = (start*(xl - x0)) \n",
    "    if(startlen/h < 4): #надо пройти хотя бы 4 точки\n",
    "        startlen = h*4\n",
    "        \n",
    "        \n",
    "    result = start_method(x0,startlen,y0,z0,h) #старт\n",
    "    \n",
    "    l = len(result)\n",
    "    \n",
    "    xcur = result[l-1][0]\n",
    "    ycur = result[l-1][1]\n",
    "    zcur = result[l-1][2]\n",
    "        \n",
    "    while xcur + h <= xl + eps:\n",
    "        l = len(result)\n",
    "        \n",
    "        fyk1 = fy(x = result[l-1][0],y = result[l-1][1], z = result[l-1][2])\n",
    "        fzk1 = fz(x = result[l-1][0],y = result[l-1][1], z = result[l-1][2])\n",
    "        \n",
    "        fyk2 = fy(x = result[l-2][0],y = result[l-2][1], z = result[l-2][2])\n",
    "        fzk2 = fz(x = result[l-2][0],y = result[l-2][1], z = result[l-2][2])\n",
    "        \n",
    "        fyk3 = fy(x = result[l-3][0],y = result[l-3][1], z = result[l-3][2])\n",
    "        fzk3 = fz(x = result[l-3][0],y = result[l-3][1], z = result[l-3][2])\n",
    "        \n",
    "        fyk4 = fy(x = result[l-4][0],y = result[l-4][1], z = result[l-4][2])\n",
    "        fzk4 = fz(x = result[l-4][0],y = result[l-4][1], z = result[l-4][2])\n",
    "        \n",
    "        dy = h/(24)*(55*fyk1 - 59*fyk2 + 37*fyk3 - 9*fyk4)\n",
    "        dz = h/(24)*(55*fzk1 - 59*fzk2 + 37*fzk3 - 9*fzk4)\n",
    "        \n",
    "\n",
    "        xcur = xcur + h\n",
    "        ycur = ycur + dy\n",
    "        zcur = zcur + dz\n",
    "\n",
    "        result.append((xcur.n(),ycur.n(),zcur.n()))\n",
    "\n",
    "    return result"
   ]
  },
  {
   "cell_type": "code",
   "execution_count": 12,
   "metadata": {},
   "outputs": [],
   "source": [
    "def adams_bashforth(x0,xl,y0,z0,h,start = 0.4,start_method = euler,eps = 0.01):\n",
    "   \n",
    "    startlen = (start*(xl - x0)) \n",
    "    if(startlen/h < 4): #надо пройти хотя бы 4 точки\n",
    "        startlen = h*4\n",
    "        \n",
    "        \n",
    "    result = start_method(x0,startlen,y0,z0,h) #старт\n",
    "    \n",
    "    l = len(result)\n",
    "    \n",
    "    xcur = result[l-1][0]\n",
    "    ycur = result[l-1][1]\n",
    "    zcur = result[l-1][2]\n",
    "        \n",
    "    while xcur + h <= xl + eps:\n",
    "        l = len(result)\n",
    "        \n",
    "        fyk1 = fy(x = result[l-1][0],y = result[l-1][1], z = result[l-1][2])\n",
    "        fzk1 = fz(x = result[l-1][0],y = result[l-1][1], z = result[l-1][2])\n",
    "        \n",
    "        fyk2 = fy(x = result[l-2][0],y = result[l-2][1], z = result[l-2][2])\n",
    "        fzk2 = fz(x = result[l-2][0],y = result[l-2][1], z = result[l-2][2])\n",
    "        \n",
    "        fyk3 = fy(x = result[l-3][0],y = result[l-3][1], z = result[l-3][2])\n",
    "        fzk3 = fz(x = result[l-3][0],y = result[l-3][1], z = result[l-3][2])\n",
    "        \n",
    "        fyk4 = fy(x = result[l-4][0],y = result[l-4][1], z = result[l-4][2])\n",
    "        fzk4 = fz(x = result[l-4][0],y = result[l-4][1], z = result[l-4][2])\n",
    "        \n",
    "        dpy = h/(24)*(55*fyk1 - 59*fyk2 + 37*fyk3 - 9*fyk4)\n",
    "        dpz = h/(24)*(55*fzk1 - 59*fzk2 + 37*fzk3 - 9*fzk4)\n",
    "        \n",
    "                \n",
    "        fpy = fy(x = xcur + h, y = ycur + dpy,z = zcur + dpz)\n",
    "        fpz = fz(x = xcur + h, y = ycur + dpy,z = zcur + dpz)\n",
    "        \n",
    "        dy = (h/24)*(9*fpy + 19*fyk1 - 5*fyk2 + fyk3)\n",
    "        dz = (h/24)*(9*fpz + 19*fzk1 - 5*fzk2 + fzk3)\n",
    "\n",
    "        xcur = xcur + h\n",
    "        ycur = ycur + dy\n",
    "        zcur = zcur + dz\n",
    "\n",
    "        result.append((xcur.n(),ycur.n(),zcur.n()))\n",
    "\n",
    "    return result"
   ]
  },
  {
   "cell_type": "code",
   "execution_count": 13,
   "metadata": {},
   "outputs": [
    {
     "data": {
      "image/png": "[encoded data removed]",
      "text/plain": [
       "Graphics object consisting of 3 graphics primitives"
      ]
     },
     "metadata": {},
     "output_type": "display_data"
    }
   ],
   "source": [
    "h = 0.1\n",
    "\n",
    "res1 = adams(a,b,y0,z0,h,start = 0.1, start_method = euler)\n",
    "res2 = adams_bashforth(a,b,y0,z0,h,start = 0.1, start_method = euler)\n",
    "\n",
    "l1 = ([(a[0],a[1]) for a in res1])\n",
    "l2 = ([(a[0],a[1]) for a in res2])\n",
    "show(line(l1,color = \"green\",legend_label = \"Adams | Euler\") + \n",
    "     line(l2,color = \"blue\",legend_label = \"Adams-Bashforth\") + \n",
    "     plot(f,color = \"red\",xmin = 0,xmax = 1,linestyle = \"-.\",legend_label =  \"истинное решение\"))"
   ]
  },
  {
   "cell_type": "code",
   "execution_count": 16,
   "metadata": {},
   "outputs": [
    {
     "data": {
      "text/html": [
       "<html><script type=\"math/tex; mode=display\">\\newcommand{\\Bold}[1]{\\mathbf{#1}}\\verb|Метод|\\phantom{\\verb!x!}\\verb|адамса,|\\phantom{\\verb!x!}\\verb|старт|\\phantom{\\verb!x!}\\verb|Эйлером|</script></html>"
      ],
      "text/latex": [
       "\\begin{math}\n",
       "\\newcommand{\\Bold}[1]{\\mathbf{#1}}\\verb|Метод|\\phantom{\\verb!x!}\\verb|адамса,|\\phantom{\\verb!x!}\\verb|старт|\\phantom{\\verb!x!}\\verb|Эйлером|\n",
       "\\end{math}"
      ],
      "text/plain": [
       "'Метод адамса, старт Эйлером'"
      ]
     },
     "metadata": {},
     "output_type": "display_data"
    },
    {
     "data": {
      "text/html": [
       "<html><script type=\"math/tex; mode=display\">\\newcommand{\\Bold}[1]{\\mathbf{#1}}\\verb|Ошибка|\\phantom{\\verb!x!}\\verb|(сравнение|\\phantom{\\verb!x!}\\verb|с|\\phantom{\\verb!x!}\\verb|истинным|\\phantom{\\verb!x!}\\verb|решением)|\\phantom{\\verb!x!}\\verb|=|\\phantom{\\verb!x!}\\verb|0.01615|</script></html>"
      ],
      "text/latex": [
       "\\begin{math}\n",
       "\\newcommand{\\Bold}[1]{\\mathbf{#1}}\\verb|Ошибка|\\phantom{\\verb!x!}\\verb|(сравнение|\\phantom{\\verb!x!}\\verb|с|\\phantom{\\verb!x!}\\verb|истинным|\\phantom{\\verb!x!}\\verb|решением)|\\phantom{\\verb!x!}\\verb|=|\\phantom{\\verb!x!}\\verb|0.01615|\n",
       "\\end{math}"
      ],
      "text/plain": [
       "'Ошибка (сравнение с истинным решением) = 0.01615'"
      ]
     },
     "metadata": {},
     "output_type": "display_data"
    },
    {
     "data": {
      "text/html": [
       "<html><script type=\"math/tex; mode=display\">\\newcommand{\\Bold}[1]{\\mathbf{#1}}\\verb\"Ошибка\"\\phantom{\\verb!x!}\\verb\"(Рунге-Ромберг\"\\phantom{\\verb!x!}\\verb\"|\"\\phantom{\\verb!x!}\\verb\"0.05)\"\\phantom{\\verb!x!}\\verb\"=\"\\phantom{\\verb!x!}\\verb\"0.01613\"</script></html>"
      ],
      "text/latex": [
       "\\begin{math}\n",
       "\\newcommand{\\Bold}[1]{\\mathbf{#1}}\\verb\"Ошибка\"\\phantom{\\verb!x!}\\verb\"(Рунге-Ромберг\"\\phantom{\\verb!x!}\\verb\"|\"\\phantom{\\verb!x!}\\verb\"0.05)\"\\phantom{\\verb!x!}\\verb\"=\"\\phantom{\\verb!x!}\\verb\"0.01613\"\n",
       "\\end{math}"
      ],
      "text/plain": [
       "'Ошибка (Рунге-Ромберг | 0.05) = 0.01613'"
      ]
     },
     "metadata": {},
     "output_type": "display_data"
    }
   ],
   "source": [
    "show(\"Метод адамса, старт Эйлером\")\n",
    "show(\"Ошибка (сравнение с истинным решением) = {}\".format(errSqAvg(f,adams(a,b,y0,z0,h,start = 0.1)).n(digits = 4)))\n",
    "show(\"Ошибка (Рунге-Ромберг | 0.05) = {}\".format(runge_rumbert_error(adams(a,b,y0,z0,h,start = 0.1),adams(a,b,y0,z0,h*0.1,start = 0.1),0.1,4).n(digits = 4)))"
   ]
  },
  {
   "cell_type": "markdown",
   "metadata": {},
   "source": [
    "  "
   ]
  },
  {
   "cell_type": "code",
   "execution_count": 17,
   "metadata": {},
   "outputs": [
    {
     "data": {
      "text/html": [
       "<html><script type=\"math/tex; mode=display\">\\newcommand{\\Bold}[1]{\\mathbf{#1}}\\verb|Метод|\\phantom{\\verb!x!}\\verb|адамса|\\phantom{\\verb!x!}\\verb|с|\\phantom{\\verb!x!}\\verb|предиктором|\\phantom{\\verb!x!}\\verb|и|\\phantom{\\verb!x!}\\verb|корректором|</script></html>"
      ],
      "text/latex": [
       "\\begin{math}\n",
       "\\newcommand{\\Bold}[1]{\\mathbf{#1}}\\verb|Метод|\\phantom{\\verb!x!}\\verb|адамса|\\phantom{\\verb!x!}\\verb|с|\\phantom{\\verb!x!}\\verb|предиктором|\\phantom{\\verb!x!}\\verb|и|\\phantom{\\verb!x!}\\verb|корректором|\n",
       "\\end{math}"
      ],
      "text/plain": [
       "'Метод адамса с предиктором и корректором'"
      ]
     },
     "metadata": {},
     "output_type": "display_data"
    },
    {
     "data": {
      "text/html": [
       "<html><script type=\"math/tex; mode=display\">\\newcommand{\\Bold}[1]{\\mathbf{#1}}\\verb|Ошибка|\\phantom{\\verb!x!}\\verb|(сравнение|\\phantom{\\verb!x!}\\verb|с|\\phantom{\\verb!x!}\\verb|истинным|\\phantom{\\verb!x!}\\verb|решением)|\\phantom{\\verb!x!}\\verb|=|\\phantom{\\verb!x!}\\verb|0.01176|</script></html>"
      ],
      "text/latex": [
       "\\begin{math}\n",
       "\\newcommand{\\Bold}[1]{\\mathbf{#1}}\\verb|Ошибка|\\phantom{\\verb!x!}\\verb|(сравнение|\\phantom{\\verb!x!}\\verb|с|\\phantom{\\verb!x!}\\verb|истинным|\\phantom{\\verb!x!}\\verb|решением)|\\phantom{\\verb!x!}\\verb|=|\\phantom{\\verb!x!}\\verb|0.01176|\n",
       "\\end{math}"
      ],
      "text/plain": [
       "'Ошибка (сравнение с истинным решением) = 0.01176'"
      ]
     },
     "metadata": {},
     "output_type": "display_data"
    },
    {
     "data": {
      "text/html": [
       "<html><script type=\"math/tex; mode=display\">\\newcommand{\\Bold}[1]{\\mathbf{#1}}\\verb\"Ошибка\"\\phantom{\\verb!x!}\\verb\"(Рунге-Ромберг\"\\phantom{\\verb!x!}\\verb\"|\"\\phantom{\\verb!x!}\\verb\"0.05)\"\\phantom{\\verb!x!}\\verb\"=\"\\phantom{\\verb!x!}\\verb\"0.01174\"</script></html>"
      ],
      "text/latex": [
       "\\begin{math}\n",
       "\\newcommand{\\Bold}[1]{\\mathbf{#1}}\\verb\"Ошибка\"\\phantom{\\verb!x!}\\verb\"(Рунге-Ромберг\"\\phantom{\\verb!x!}\\verb\"|\"\\phantom{\\verb!x!}\\verb\"0.05)\"\\phantom{\\verb!x!}\\verb\"=\"\\phantom{\\verb!x!}\\verb\"0.01174\"\n",
       "\\end{math}"
      ],
      "text/plain": [
       "'Ошибка (Рунге-Ромберг | 0.05) = 0.01174'"
      ]
     },
     "metadata": {},
     "output_type": "display_data"
    }
   ],
   "source": [
    "show(\"Метод адамса с предиктором и корректором\")\n",
    "show(\"Ошибка (сравнение с истинным решением) = {}\".format(errSqAvg(f,adams_bashforth(a,b,y0,z0,h,start = 0.1)).n(digits = 4)))\n",
    "show(\"Ошибка (Рунге-Ромберг | 0.05) = {}\".format(runge_rumbert_error(adams_bashforth(a,b,y0,z0,h,start = 0.1),adams_bashforth(a,b,y0,z0,h*0.1,start = 0.1),0.1,4).n(digits = 4)))"
   ]
  },
  {
   "cell_type": "code",
   "execution_count": null,
   "metadata": {},
   "outputs": [],
   "source": []
  },
  {
   "cell_type": "code",
   "execution_count": null,
   "metadata": {},
   "outputs": [],
   "source": []
  },
  {
   "cell_type": "code",
   "execution_count": null,
   "metadata": {},
   "outputs": [],
   "source": []
  },
  {
   "cell_type": "code",
   "execution_count": null,
   "metadata": {},
   "outputs": [],
   "source": []
  },
  {
   "cell_type": "code",
   "execution_count": null,
   "metadata": {},
   "outputs": [],
   "source": []
  }
 ],
 "metadata": {
  "kernelspec": {
   "display_name": "SageMath 9.2",
   "language": "sage",
   "name": "sagemath"
  },
  "language_info": {
   "codemirror_mode": {
    "name": "ipython",
    "version": 3
   },
   "file_extension": ".py",
   "mimetype": "text/x-python",
   "name": "python",
   "nbconvert_exporter": "python",
   "pygments_lexer": "ipython3",
   "version": "3.7.7"
  }
 },
 "nbformat": 4,
 "nbformat_minor": 4
}
