{
 "cells": [
  {
   "cell_type": "markdown",
   "id": "e3ccdae3",
   "metadata": {},
   "source": [
    "## Лабораторная работа №6\n",
    "#### По дисциплине \"численные методы\"\n",
    "Выполнил: Гаврилов М.С.  \n",
    "Группа: М8О-406Б-19  \n",
    "Вариант: 7"
   ]
  },
  {
   "cell_type": "code",
   "execution_count": 2,
   "id": "654e9666",
   "metadata": {},
   "outputs": [],
   "source": [
    "import numpy as np\n",
    "import pylab\n",
    "from tqdm import tqdm"
   ]
  },
  {
   "cell_type": "code",
   "execution_count": 3,
   "id": "bc6f78f3",
   "metadata": {},
   "outputs": [],
   "source": [
    "def visualise(matr,t_skip,shape = [1,1]):\n",
    "    pylab.figure(figsize = (shape[0],shape[1]))\n",
    "    pylab.xlabel(\"x\")\n",
    "    pylab.ylabel(\"t\")\n",
    "    for i in range(matr.shape[0]):\n",
    "        if(i % t_skip != 0):\n",
    "            continue\n",
    "            \n",
    "        for j in range(matr.shape[1]):\n",
    "            \n",
    "            if(matr[i][j] > 0):\n",
    "                pylab.plot(j,i,'s',color = (matr[i][j],0,0))\n",
    "            if(matr[i][j] <= 0):\n",
    "                pylab.plot(j,i,'s',color = (0,0,-matr[i][j]))\n",
    "    pylab.show()"
   ]
  },
  {
   "cell_type": "code",
   "execution_count": 159,
   "id": "95c443b5",
   "metadata": {},
   "outputs": [],
   "source": [
    "def numerc_derivative_1(f,x,h):\n",
    "    return (f(x + h) - f(x - h))/(2*h) \n",
    "\n",
    "def numerc_derivative_2(f,x,h):\n",
    "    return (f(x - h) - 2*f(x) + f(x + h))/(h**2) "
   ]
  },
  {
   "cell_type": "code",
   "execution_count": 223,
   "id": "e999d4a8",
   "metadata": {},
   "outputs": [],
   "source": [
    "class mesh():\n",
    "    def __init__(self,spatial_resolution,time_resolution,x_span,t_span,approx_method = 0):\n",
    "        self.type = None\n",
    "        self.approx = approx_method\n",
    "        #approx_method - метод аппроксимации, используемый при наличии производных на границе\n",
    "        #0 - двуточечный  1-го порядка\n",
    "        #1 - двуточечный  2-го порядка\n",
    "        #41 - терхточечный 2-го порядка\n",
    "        #для рассчета первого слоя используетля \n",
    "        #0 - двухточечный первого порядка\n",
    "        #other - двухточечный второго порядка\n",
    "        \n",
    "        self.spatial_resolution = spatial_resolution\n",
    "        self.time_resolution = time_resolution\n",
    "        self.x_span = x_span\n",
    "        self.t_span = t_span\n",
    "        \n",
    "        #заполнение координат узлов сетки\n",
    "        self.mesh_nodes = np.zeros([time_resolution,spatial_resolution,2])\n",
    "        h = (x_span[1] - x_span[0])/(spatial_resolution-1)\n",
    "        t = (t_span[1] - t_span[0])/(time_resolution-1)\n",
    "        self.t = t\n",
    "        self.h = h\n",
    "        \n",
    "        #заполнение значений узлов сетки\n",
    "        for i in np.arange(time_resolution):\n",
    "            for j in np.arange(spatial_resolution):\n",
    "                self.mesh_nodes[i,j,0] = i*t\n",
    "                self.mesh_nodes[i,j,1] = j*h\n",
    "                \n",
    "        self.mesh_nodes_value = np.zeros([time_resolution,spatial_resolution])\n",
    "        \n",
    "        self.object_init = True\n",
    "        self.border_init = False\n",
    "        self.f0_init = False\n",
    "        self.f1_init = False\n",
    "        \n",
    "    def set_f0(self,f0): #f0 - функия, принимающая в качестве аргумента пространственную координату\n",
    "        for j in range(self.spatial_resolution):\n",
    "            self.mesh_nodes_value[0,j] = f0(self.mesh_nodes[0,j,1])\n",
    "    \n",
    "    def calculate_f1(self,f0_drv,a = 0): #f1 - вычисляется на основе производных в точке времени 0\n",
    "        for i in range(self.spatial_resolution):\n",
    "            if(self.approx == 0):#двухточечная первого порядка\n",
    "                self.mesh_nodes_value[1,i] = self.mesh_nodes_value[0,i] + f0_drv(self.mesh_nodes[0,i,1])*self.t\n",
    "            if(self.approx != 0):#двухточечная второго порядка\n",
    "                if(a == 0):\n",
    "                    raise ValueError(\"parameter 'a' required for 2-nd order approximation at layer 2\")\n",
    "                drv2 = numerc_derivative_1(f0_drv,i,self.h*0.001)\n",
    "                self.mesh_nodes_value[1,i] = self.mesh_nodes_value[0,i] + f0_drv(self.mesh_nodes[0,i,1])*self.t\n",
    "                self.mesh_nodes_value[1,i] += a*drv2*(self.t**2)/2\n",
    "        \n",
    "    def set_border_val(self,f0,fl):\n",
    "        for i in range(self.time_resolution):\n",
    "            self.mesh_nodes_value[i,0] = f0(self.mesh_nodes[i,0,0])\n",
    "            self.mesh_nodes_value[i,self.spatial_resolution - 1] = fl(self.mesh_nodes[i,self.spatial_resolution - 1,0])\n",
    "        self.type = 1\n",
    "        \n",
    "    def set_border_drv(self,f0,fl):\n",
    "        self.fx0 = f0\n",
    "        self.fxl = fl\n",
    "        self.type = 2\n",
    "        \n",
    "    def set_mesh_values(self,vals):\n",
    "        \n",
    "        for i in range(self.time_resolution):\n",
    "            for j in range(0, self.spatial_resolution):\n",
    "                self.mesh_nodes_value[i,j] = vals(self.mesh_nodes[i,j])\n",
    "                \n",
    "                \n",
    "    def solve_cross_scheme(self,a,d = 0,b = 0,c = 0,f = None,verbal = True,approx_mode = 'centre'):\n",
    "        \n",
    "        h = self.h\n",
    "        t = self.t\n",
    "        sigma = (a * t**2)/(h**2)\n",
    "        \n",
    "        if(verbal):\n",
    "            if(sigma > 1):\n",
    "                print(\"alert: sigma = {}. invalid solution\".format(sigma))\n",
    "        else:\n",
    "            if(sigma > 1):\n",
    "                return\n",
    "                \n",
    "        l = self.spatial_resolution\n",
    "        \n",
    "        for i in range(1, self.time_resolution - 1):\n",
    "            for j in range(1, l - 1):\n",
    "                self.mesh_nodes_value[i+1,j] =  a*(t**2)/(h**2)*(self.mesh_nodes_value[i,j+1] + self.mesh_nodes_value[i,j-1] - 2*self.mesh_nodes_value[i,j])\n",
    "                self.mesh_nodes_value[i+1,j] += b*(t**2)/(2*h)*(self.mesh_nodes_value[i,j+1] - self.mesh_nodes_value[i,j-1])\n",
    "                self.mesh_nodes_value[i+1,j] += c*(t**2)*(self.mesh_nodes_value[i,j])\n",
    "                if(f != None):\n",
    "                    self.mesh_nodes_value[i + 1,j] += (t**2)*f(self.mesh_nodes[i+1,j])\n",
    "                    \n",
    "                if(approx_mode == 'centre'):\n",
    "                    #центральная аппроксимация первой производной по времени\n",
    "                    self.mesh_nodes_value[i+1,j] += -(1/2)*(-4*self.mesh_nodes_value[i,j] + 2*self.mesh_nodes_value[i-1,j] - d*t*self.mesh_nodes_value[i-1,j])\n",
    "                    self.mesh_nodes_value[i+1,j] *= 2/(2 + d*t)            \n",
    "                else:\n",
    "                    #хвостовая аппроксимация первой производной по времени\n",
    "                    self.mesh_nodes_value[i+1,j] += 2*self.mesh_nodes_value[i,j] - self.mesh_nodes_value[i-1,j]\n",
    "                    self.mesh_nodes_value[i+1,j] += -d*t*(self.mesh_nodes_value[i,j] - self.mesh_nodes_value[i-1,j])\n",
    "                  \n",
    "        \n",
    "            if(self.type == 2):\n",
    "                if(self.approx == 0):\n",
    "                    self.mesh_nodes_value[i + 1,0]   = self.mesh_nodes_value[i + 1,1] -self.h*self.fx0(self.mesh_nodes[i + 1,0,0])\n",
    "                    self.mesh_nodes_value[i + 1,l-1] = self.mesh_nodes_value[i + 1,l-2] + self.h*self.fxl(self.mesh_nodes[i + 1,l-1,0])\n",
    "                if(self.approx == 1):\n",
    "                    self.mesh_nodes_value[i + 1,0]   = (4*self.mesh_nodes_value[i + 1,1] - self.mesh_nodes_value[i + 1,2] -2*self.h*self.fx0(self.mesh_nodes[i + 1,0,0]))/3\n",
    "                    self.mesh_nodes_value[i + 1,l-1] = (4*self.mesh_nodes_value[i + 1,l-2] - self.mesh_nodes_value[i + 1,l-3] + 2*self.h*self.fxl(self.mesh_nodes[i + 1,l-1,0]))/3\n",
    "                if(self.approx == 2):               \n",
    "                    self.mesh_nodes_value[i + 1,0] = (self.mesh_nodes_value[i + 1,1] + ((h**2)/(2*t*a**2))*self.mesh_nodes_value[i,0] - h*(1 +(h*b)/(2*a**2))*self.fx0(self.mesh_nodes[i + 1,0,0]) - (h/(2*a**2))*(c + f(self.mesh_nodes[i+1,0])))/(1 + (h**2)/(2*t*a**2))\n",
    "                    self.mesh_nodes_value[i + 1,l-1] = (self.mesh_nodes_value[i + 1,l-2] + ((h**2)/(2*t*a**2))*self.mesh_nodes_value[i,l-1] + h*(1 -(h*b)/(2*a**2))*self.fxl(self.mesh_nodes[i + 1,l-1,0]) - (h/(2*a**2))*(c + f(self.mesh_nodes[i+1,l-1])))/(1 + (h**2)/(2*t*a**2))\n",
    "    \n",
    "    \n",
    "    def solve_implicit_scheme(self,a,d = 0,b = 0,c = 0,f = None,verbal = True):\n",
    "        t = self.t\n",
    "        h = self.h\n",
    "        \n",
    "        l = self.spatial_resolution\n",
    "        alpha = -((a / (h**2)) - (b / (2*h)))\n",
    "        betha = (1/(t**2) + d/t + ((2*a) / (h**2)) - c)\n",
    "        gamma = -((a / (h**2)) + (b / (2*h)))\n",
    "        \n",
    "        for i in range(1,self.time_resolution - 1):\n",
    "            matr = np.zeros([self.spatial_resolution,self.spatial_resolution])\n",
    "            res = np.zeros([self.spatial_resolution])\n",
    "            \n",
    "            #граничные значения в матрице\n",
    "            if(self.type == 1):\n",
    "                matr[0,0] = 1\n",
    "                matr[l-1,l-1] = 1\n",
    "\n",
    "                res[0]  = self.mesh_nodes_value[i + 1,0  ]\n",
    "                res[l-1]= self.mesh_nodes_value[i + 1,l-1]\n",
    "\n",
    "            if(self.type == 2):\n",
    "                if(self.approx == 0):\n",
    "                    matr[0,0] =  1\n",
    "                    matr[0,1] = -1 \n",
    "                    matr[l-1,l-2] = -1\n",
    "                    matr[l-1,l-1] =  1\n",
    "\n",
    "                    res[0]   =  -h*self.fx0(self.mesh_nodes[i+1,0,0])\n",
    "                    res[l-1] =  h*self.fxl(self.mesh_nodes[i+1,l-1,0])\n",
    "                if(self.approx == 1):\n",
    "                    matr[0,0] = -3\n",
    "                    matr[0,1] = +4\n",
    "                    matr[0,2] = -1 \n",
    "                    matr[l-1,l-3] = +1\n",
    "                    matr[l-1,l-2] = -4\n",
    "                    matr[l-1,l-1] = +3\n",
    "\n",
    "                    res[0]   =  2*h*self.fx0(self.mesh_nodes[i+1,0,0])\n",
    "                    res[l-1] =  2*h*self.fxl(self.mesh_nodes[i+1,l-1,0])\n",
    "                if(self.approx == 2):\n",
    "                    matr[0,0] =  (1 + (h**2)/(2*t*a**2))\n",
    "                    matr[0,1] = -1 \n",
    "                    matr[l-1,l-2] = -1\n",
    "                    matr[l-1,l-1] =  (1 + (h**2)/(2*t*a**2))\n",
    "                    \n",
    "                    res[0]   = ((h**2)/(2*t*a**2))*self.mesh_nodes_value[i,0] - h*(1 +(h*b)/(2*a**2))*self.fx0(self.mesh_nodes[i + 1,0,0]) - (h/(2*a**2))*(c + f(self.mesh_nodes[i+1,0]))\n",
    "                    res[l-1] = ((h**2)/(2*t*a**2))*self.mesh_nodes_value[i,l-1] + h*(1 -(h*b)/(2*a**2))*self.fxl(self.mesh_nodes[i + 1,l-1,0]) - (h/(2*a**2))*(c + f(self.mesh_nodes[i+1,l-1]))\n",
    "            \n",
    "            #заполнение диагоналей \n",
    "            for j in range(1,l-1):\n",
    "                matr[j,j-1] = alpha\n",
    "                matr[j,j+0] = betha\n",
    "                matr[j,j+1] = gamma\n",
    "\n",
    "                res[j] =  (2*self.mesh_nodes_value[i,j] - self.mesh_nodes_value[i-1,j])/(t**2)\n",
    "                res[j] += d*self.mesh_nodes_value[i,j]/t\n",
    "                if(f != None):\n",
    "                    res[j] += f(self.mesh_nodes[i+1,j])\n",
    "\n",
    "            next_row = np.linalg.solve(matr,res)\n",
    "            self.mesh_nodes_value[i + 1] = next_row\n",
    "        \n",
    "        \n",
    "    \n",
    "    def print(self,skip = 1):\n",
    "        vis_mesh = self.mesh_nodes_value / np.max(np.abs(self.mesh_nodes_value))\n",
    "        visualise(vis_mesh,t_skip = skip,shape = [self.x_span[1] - self.x_span[0],self.t_span[1] - self.t_span[0]])\n",
    "        \n",
    "    def compare(self,other):\n",
    "        return np.mean(np.abs(self.mesh_nodes_value - other.mesh_nodes_value))\n",
    "        \n",
    "    def compare_verbal(self,other,skip = 10):\n",
    "        print(\"mean abs error: {}\".format(np.mean(np.abs(self.mesh_nodes_value - other.mesh_nodes_value))))\n",
    "        print(\"error map:\")\n",
    "        dif_mesh = (self.mesh_nodes_value - other.mesh_nodes_value)\n",
    "        dif_mesh = dif_mesh / np.max(np.abs(dif_mesh))\n",
    "        visualise(dif_mesh,t_skip = skip,shape = [self.x_span[1] - self.x_span[0],self.t_span[1] - self.t_span[0]])\n",
    "        \n",
    "        return np.mean(np.abs(self.mesh_nodes_value - other.mesh_nodes_value))\n",
    "    \n",
    "    def compare_by_layers(self,other,skip = 10):\n",
    "        arr = []\n",
    "        for i in range(0,len(self.mesh_nodes_value),skip):\n",
    "                arr.append([i,np.mean(np.abs(self.mesh_nodes_value[i] - other.mesh_nodes_value[i])),np.mean((self.mesh_nodes_value[i] - other.mesh_nodes_value[i]))])\n",
    "        arr = np.array(arr)\n",
    "        \n",
    "        pylab.figure(figsize = (8,5))\n",
    "        pylab.xlabel(\"temporal layer\",color = \"grey\")\n",
    "        pylab.ylabel(\"mean error at layer\",color = \"grey\")\n",
    "            \n",
    "        pylab.xlim([0,len(self.mesh_nodes_value)])\n",
    "        \n",
    "        pylab.plot(arr[:,0],arr[:,1],label = \"abs error\")\n",
    "        pylab.plot(arr[:,0],arr[:,2],label = \"no abs error\")\n",
    "        pylab.legend()\n",
    "        pylab.show()\n",
    "        "
   ]
  },
  {
   "cell_type": "code",
   "execution_count": 224,
   "id": "2bea78ab",
   "metadata": {},
   "outputs": [],
   "source": [
    "def Xi0(x):\n",
    "    return np.exp(-x)*np.cos(x)\n",
    "def d_Xi0(x):\n",
    "    return -np.exp(-x)*np.cos(x)\n",
    "def u_bd_left(t):\n",
    "    return np.exp(-t)*np.cos(2*t)\n",
    "def u_bd_right(t):\n",
    "    return 0"
   ]
  },
  {
   "cell_type": "markdown",
   "id": "93acb8a9",
   "metadata": {},
   "source": [
    "#### Истинное решение"
   ]
  },
  {
   "cell_type": "code",
   "execution_count": 225,
   "id": "68eb9fab",
   "metadata": {},
   "outputs": [],
   "source": [
    "def f_true(crd):\n",
    "    t,x = crd\n",
    "    return np.exp(-t-x)*np.cos(x)*np.cos(2*t)"
   ]
  },
  {
   "cell_type": "code",
   "execution_count": 226,
   "id": "92d97894",
   "metadata": {},
   "outputs": [
    {
     "data": {
      "image/png": "[encoded data removed]",
      "text/plain": [
       "<Figure size 113.097x216 with 1 Axes>"
      ]
     },
     "metadata": {
      "needs_background": "light"
     },
     "output_type": "display_data"
    }
   ],
   "source": [
    "test_mesh = mesh(20,100,[0,0.5*np.pi],[0,3])\n",
    "test_mesh.set_mesh_values(f_true)\n",
    "test_mesh.print(skip = 2)"
   ]
  },
  {
   "cell_type": "markdown",
   "id": "09c1a961",
   "metadata": {},
   "source": [
    "#### Решение с использованием схемы \"крест\""
   ]
  },
  {
   "cell_type": "code",
   "execution_count": 227,
   "id": "49a9bec0",
   "metadata": {
    "scrolled": false
   },
   "outputs": [
    {
     "data": {
      "image/png": "[encoded data removed]",
      "text/plain": [
       "<Figure size 113.097x216 with 1 Axes>"
      ]
     },
     "metadata": {
      "needs_background": "light"
     },
     "output_type": "display_data"
    }
   ],
   "source": [
    "cross_mesh = mesh(20,100,[0,0.5*np.pi],[0,3],approx_method = 0)\n",
    "cross_mesh.set_f0(Xi0)\n",
    "cross_mesh.calculate_f1(d_Xi0,a = 1)\n",
    "cross_mesh.set_border_val(u_bd_left,u_bd_right)\n",
    "\n",
    "cross_mesh.solve_cross_scheme(a=1,d=2,b=2,c=-3)\n",
    "cross_mesh.print(skip = 2)"
   ]
  },
  {
   "cell_type": "code",
   "execution_count": 228,
   "id": "7b01b0cf",
   "metadata": {},
   "outputs": [
    {
     "name": "stdout",
     "output_type": "stream",
     "text": [
      "mean abs error: 0.0008280366971993976\n",
      "error map:\n"
     ]
    },
    {
     "data": {
      "image/png": "[encoded data removed]",
      "text/plain": [
       "<Figure size 113.097x216 with 1 Axes>"
      ]
     },
     "metadata": {
      "needs_background": "light"
     },
     "output_type": "display_data"
    }
   ],
   "source": [
    "cross_error = test_mesh.compare_verbal(cross_mesh,skip=2)"
   ]
  },
  {
   "cell_type": "markdown",
   "id": "8db7de08",
   "metadata": {},
   "source": [
    "График зависимости погрешности аппрокисимации на временном слое его номера"
   ]
  },
  {
   "cell_type": "code",
   "execution_count": 229,
   "id": "cbafc017",
   "metadata": {},
   "outputs": [
    {
     "data": {
      "image/png": "[encoded data removed]",
      "text/plain": [
       "<Figure size 576x360 with 1 Axes>"
      ]
     },
     "metadata": {
      "needs_background": "light"
     },
     "output_type": "display_data"
    }
   ],
   "source": [
    "test_mesh.compare_by_layers(cross_mesh,skip=2)"
   ]
  },
  {
   "cell_type": "markdown",
   "id": "9b3ca3e2",
   "metadata": {},
   "source": [
    "Решение с аппроксимацией на первом слое второго порядка:"
   ]
  },
  {
   "cell_type": "code",
   "execution_count": 230,
   "id": "c0226e3e",
   "metadata": {},
   "outputs": [
    {
     "data": {
      "image/png": "[encoded data removed]",
      "text/plain": [
       "<Figure size 113.097x216 with 1 Axes>"
      ]
     },
     "metadata": {
      "needs_background": "light"
     },
     "output_type": "display_data"
    }
   ],
   "source": [
    "cross_mesh = mesh(20,100,[0,0.5*np.pi],[0,3],approx_method = 1)\n",
    "cross_mesh.set_f0(Xi0)\n",
    "cross_mesh.calculate_f1(d_Xi0,a = 1)\n",
    "cross_mesh.set_border_val(u_bd_left,u_bd_right)\n",
    "\n",
    "cross_mesh.solve_cross_scheme(a=1,d=2,b=2,c=-3)\n",
    "cross_mesh.print(skip = 2)"
   ]
  },
  {
   "cell_type": "code",
   "execution_count": 231,
   "id": "4719ba66",
   "metadata": {},
   "outputs": [
    {
     "name": "stdout",
     "output_type": "stream",
     "text": [
      "mean abs error: 0.0008321981754506424\n",
      "error map:\n"
     ]
    },
    {
     "data": {
      "image/png": "[encoded data removed]",
      "text/plain": [
       "<Figure size 113.097x216 with 1 Axes>"
      ]
     },
     "metadata": {
      "needs_background": "light"
     },
     "output_type": "display_data"
    }
   ],
   "source": [
    "cross_error = test_mesh.compare_verbal(cross_mesh,skip=2)"
   ]
  },
  {
   "cell_type": "markdown",
   "id": "502c2a04",
   "metadata": {},
   "source": [
    "#### Решение с использованием неявной схемы"
   ]
  },
  {
   "cell_type": "code",
   "execution_count": 232,
   "id": "faab3002",
   "metadata": {},
   "outputs": [
    {
     "data": {
      "image/png": "[encoded data removed]",
      "text/plain": [
       "<Figure size 113.097x216 with 1 Axes>"
      ]
     },
     "metadata": {
      "needs_background": "light"
     },
     "output_type": "display_data"
    }
   ],
   "source": [
    "implicit_mesh = mesh(20,100,[0,0.5*np.pi],[0,3])\n",
    "implicit_mesh.set_f0(Xi0)\n",
    "implicit_mesh.calculate_f1(d_Xi0)\n",
    "implicit_mesh.set_border_val(u_bd_left,u_bd_right)\n",
    "\n",
    "implicit_mesh.solve_implicit_scheme(a=1,d=2,b=2,c=-3)\n",
    "implicit_mesh.print(skip = 2)"
   ]
  },
  {
   "cell_type": "code",
   "execution_count": 233,
   "id": "4c7531f3",
   "metadata": {},
   "outputs": [
    {
     "name": "stdout",
     "output_type": "stream",
     "text": [
      "mean abs error: 0.003707617386414305\n",
      "error map:\n"
     ]
    },
    {
     "data": {
      "image/png": "[encoded data removed]",
      "text/plain": [
       "<Figure size 113.097x216 with 1 Axes>"
      ]
     },
     "metadata": {
      "needs_background": "light"
     },
     "output_type": "display_data"
    }
   ],
   "source": [
    "cross_error = test_mesh.compare_verbal(implicit_mesh,skip=2)"
   ]
  },
  {
   "cell_type": "code",
   "execution_count": 234,
   "id": "b8a6c7cf",
   "metadata": {},
   "outputs": [
    {
     "data": {
      "image/png": "[encoded data removed]",
      "text/plain": [
       "<Figure size 576x360 with 1 Axes>"
      ]
     },
     "metadata": {
      "needs_background": "light"
     },
     "output_type": "display_data"
    }
   ],
   "source": [
    "test_mesh.compare_by_layers(implicit_mesh,skip=2)"
   ]
  },
  {
   "cell_type": "markdown",
   "id": "5df7d26d",
   "metadata": {},
   "source": [
    "Решение с аппроксимацией на первом слое второго порядка:"
   ]
  },
  {
   "cell_type": "code",
   "execution_count": 238,
   "id": "78dd6cae",
   "metadata": {},
   "outputs": [
    {
     "data": {
      "image/png": "[encoded data removed]",
      "text/plain": [
       "<Figure size 113.097x216 with 1 Axes>"
      ]
     },
     "metadata": {
      "needs_background": "light"
     },
     "output_type": "display_data"
    }
   ],
   "source": [
    "implicit_mesh = mesh(20,100,[0,0.5*np.pi],[0,3],approx_method = 1)\n",
    "implicit_mesh.set_f0(Xi0)\n",
    "implicit_mesh.calculate_f1(d_Xi0,a = 1)\n",
    "implicit_mesh.set_border_val(u_bd_left,u_bd_right)\n",
    "\n",
    "implicit_mesh.solve_implicit_scheme(a=1,d=2,b=2,c=-3)\n",
    "implicit_mesh.print(skip = 2)"
   ]
  },
  {
   "cell_type": "code",
   "execution_count": 239,
   "id": "74e47a56",
   "metadata": {},
   "outputs": [
    {
     "name": "stdout",
     "output_type": "stream",
     "text": [
      "mean abs error: 0.003711111563741559\n",
      "error map:\n"
     ]
    },
    {
     "data": {
      "image/png": "[encoded data removed]",
      "text/plain": [
       "<Figure size 113.097x216 with 1 Axes>"
      ]
     },
     "metadata": {
      "needs_background": "light"
     },
     "output_type": "display_data"
    }
   ],
   "source": [
    "cross_error = test_mesh.compare_verbal(implicit_mesh,skip=2)"
   ]
  },
  {
   "cell_type": "markdown",
   "id": "8f65c9cb",
   "metadata": {},
   "source": [
    "### Исследование зависимости погрешности от мелкости сетки"
   ]
  },
  {
   "cell_type": "markdown",
   "id": "25533dbf",
   "metadata": {},
   "source": [
    "##### На квадратной сетке"
   ]
  },
  {
   "cell_type": "markdown",
   "id": "5b3723c2",
   "metadata": {},
   "source": [
    "По квадратной сетке (только неявный метод)"
   ]
  },
  {
   "cell_type": "code",
   "execution_count": 178,
   "id": "aefe1fa8",
   "metadata": {},
   "outputs": [
    {
     "name": "stderr",
     "output_type": "stream",
     "text": [
      "100%|██████████████████████████████████████████████████████████████████████████████████| 25/25 [03:14<00:00,  7.78s/it]\n"
     ]
    }
   ],
   "source": [
    "arr = []\n",
    "for i in tqdm(range(10,500,20)):\n",
    "    \n",
    "    exsl_mesh = mesh(i,i,[0,0.5*np.pi],[0,3])\n",
    "    exsl_mesh.set_f0(Xi0)\n",
    "    exsl_mesh.calculate_f1(d_Xi0)\n",
    "    exsl_mesh.set_border_val(u_bd_left,u_bd_right)\n",
    "\n",
    "    ril_mesh = mesh(i,i,[0,0.5*np.pi],[0,3])\n",
    "    ril_mesh.set_mesh_values(f_true)\n",
    "\n",
    "    exsl_mesh.solve_implicit_scheme(a=1,d=2,b=2,c=-3)\n",
    "    err = ril_mesh.compare(exsl_mesh)\n",
    "    arr.append([i,err])\n",
    "    \n",
    "arr = np.array(arr)"
   ]
  },
  {
   "cell_type": "code",
   "execution_count": 179,
   "id": "677aba4f",
   "metadata": {},
   "outputs": [
    {
     "data": {
      "image/png": "[encoded data removed]",
      "text/plain": [
       "<Figure size 576x360 with 1 Axes>"
      ]
     },
     "metadata": {
      "needs_background": "light"
     },
     "output_type": "display_data"
    }
   ],
   "source": [
    "pylab.figure(figsize = (8,5))\n",
    "pylab.xlabel(\"mesh side\",color = \"grey\")\n",
    "pylab.ylabel(\"mean error\",color = \"grey\")\n",
    "pylab.xlim(0,np.max(arr[:,0]))\n",
    "pylab.plot(arr[:,0],arr[:,1])\n",
    "pylab.show()"
   ]
  },
  {
   "cell_type": "markdown",
   "id": "949aea65",
   "metadata": {},
   "source": [
    "По прямоугольной сетке (сравнение двух методов)"
   ]
  },
  {
   "cell_type": "code",
   "execution_count": 183,
   "id": "7c7f5f68",
   "metadata": {},
   "outputs": [
    {
     "name": "stderr",
     "output_type": "stream",
     "text": [
      "100%|██████████████████████████████████████████████████████████████████████████████████| 15/15 [02:43<00:00, 10.92s/it]\n"
     ]
    }
   ],
   "source": [
    "arr = []\n",
    "for i in tqdm(range(10,300,20)):\n",
    "    \n",
    "    exsl_mesh = mesh(i,3*i,[0,0.5*np.pi],[0,3])\n",
    "    exsl_mesh.set_f0(Xi0)\n",
    "    exsl_mesh.calculate_f1(d_Xi0)\n",
    "    exsl_mesh.set_border_val(u_bd_left,u_bd_right)\n",
    "\n",
    "    ril_mesh = mesh(i,3*i,[0,0.5*np.pi],[0,3])\n",
    "    ril_mesh.set_mesh_values(f_true)\n",
    "\n",
    "    exsl_mesh.solve_implicit_scheme(a=1,d=2,b=2,c=-3)\n",
    "    err_im = ril_mesh.compare(exsl_mesh)\n",
    "    exsl_mesh.solve_cross_scheme(a=1,d=2,b=2,c=-3)\n",
    "    err_cr = ril_mesh.compare(exsl_mesh)\n",
    "    arr.append([i,err_im,err_cr])\n",
    "    \n",
    "arr = np.array(arr)"
   ]
  },
  {
   "cell_type": "code",
   "execution_count": 184,
   "id": "fe6e69fd",
   "metadata": {},
   "outputs": [
    {
     "data": {
      "image/png": "[encoded data removed]",
      "text/plain": [
       "<Figure size 576x360 with 1 Axes>"
      ]
     },
     "metadata": {
      "needs_background": "light"
     },
     "output_type": "display_data"
    }
   ],
   "source": [
    "pylab.figure(figsize = (8,5))\n",
    "pylab.xlabel(\"mesh side\",color = \"grey\")\n",
    "pylab.ylabel(\"mean error\",color = \"grey\")\n",
    "pylab.xlim(0,np.max(arr[:,0]))\n",
    "pylab.plot(arr[:,0],arr[:,1],label = \"implicit scheme\")\n",
    "pylab.plot(arr[:,0],arr[:,2],label = \"cross scheme\")\n",
    "pylab.legend()\n",
    "pylab.show()"
   ]
  },
  {
   "cell_type": "markdown",
   "id": "3133310a",
   "metadata": {},
   "source": [
    "Варьируем один из параметров сетки, фиксируя другой"
   ]
  },
  {
   "cell_type": "code",
   "execution_count": 185,
   "id": "319d9bb4",
   "metadata": {},
   "outputs": [
    {
     "name": "stderr",
     "output_type": "stream",
     "text": [
      "100%|██████████████████████████████████████████████████████████████████████████████████| 15/15 [00:19<00:00,  1.28s/it]\n"
     ]
    }
   ],
   "source": [
    "arr = []\n",
    "for i in tqdm(range(10,300,20)):\n",
    "    \n",
    "    exsl_mesh = mesh(50,i,[0,0.5*np.pi],[0,3])\n",
    "    exsl_mesh.set_f0(Xi0)\n",
    "    exsl_mesh.calculate_f1(d_Xi0)\n",
    "    exsl_mesh.set_border_val(u_bd_left,u_bd_right)\n",
    "\n",
    "    ril_mesh = mesh(50,i,[0,0.5*np.pi],[0,3])\n",
    "    ril_mesh.set_mesh_values(f_true)\n",
    "\n",
    "    exsl_mesh.solve_implicit_scheme(a=1,d=2,b=2,c=-3)\n",
    "    err_h_fixed = ril_mesh.compare(exsl_mesh)\n",
    "    \n",
    "    \n",
    "    \n",
    "    exsl_mesh = mesh(i,50,[0,0.5*np.pi],[0,3])\n",
    "    exsl_mesh.set_f0(Xi0)\n",
    "    exsl_mesh.calculate_f1(d_Xi0)\n",
    "    exsl_mesh.set_border_val(u_bd_left,u_bd_right)\n",
    "\n",
    "    ril_mesh = mesh(i,50,[0,0.5*np.pi],[0,3])\n",
    "    ril_mesh.set_mesh_values(f_true)\n",
    "    \n",
    "    exsl_mesh.solve_implicit_scheme(a=1,d=2,b=2,c=-3)\n",
    "    err_t_fixed = ril_mesh.compare(exsl_mesh)\n",
    "    arr.append([i,err_h_fixed,err_t_fixed])\n",
    "    \n",
    "arr = np.array(arr)"
   ]
  },
  {
   "cell_type": "code",
   "execution_count": 186,
   "id": "59779329",
   "metadata": {},
   "outputs": [
    {
     "data": {
      "image/png": "[encoded data removed]",
      "text/plain": [
       "<Figure size 576x360 with 1 Axes>"
      ]
     },
     "metadata": {
      "needs_background": "light"
     },
     "output_type": "display_data"
    }
   ],
   "source": [
    "pylab.figure(figsize = (8,5))\n",
    "pylab.xlabel(\"mesh side\",color = \"grey\")\n",
    "pylab.ylabel(\"mean error\",color = \"grey\")\n",
    "pylab.xlim(0,np.max(arr[:,0]))\n",
    "pylab.plot(arr[:,0],arr[:,1],label = \"changing t with fixed h\")\n",
    "pylab.plot(arr[:,0],arr[:,2],label = \"changing h with fixed t\")\n",
    "pylab.legend()\n",
    "pylab.show()"
   ]
  },
  {
   "cell_type": "markdown",
   "id": "37206030",
   "metadata": {},
   "source": [
    "По графику выше видно, что измельчение сетки по x не имеет смысла, если количество временных слоев меньше, чем количество пространственных. При фиксированном h уменьшение t даест прирост точности, но не наоборот"
   ]
  },
  {
   "cell_type": "markdown",
   "id": "a8602218",
   "metadata": {},
   "source": [
    "### Вывод\n",
    "В ходе выполнения этой лабораторной работы я ознакомился с методами численного решения уравнений гиперболичесткого типа. Я реализовал схему \"крест\" и неявную схему, а также различные методы аппроксимации производных на границе (которые в моей задаче не пригодились, ибо она имела краевые условия первого рода). Также я реализовал два варианта аппроксимации значений функции на первом временном слое. Исследование зависимости погрешности от параметров сетки показало, что при прочих равных схема \"крест\" дает большую точность, чем неявная схема, что объясняется тем, что последняя имееет погрешность O(h + t^2) а погрешность схемы \"крест\" равна O(h^2 + t^2)."
   ]
  }
 ],
 "metadata": {
  "kernelspec": {
   "display_name": "Python 3 (ipykernel)",
   "language": "python",
   "name": "python3"
  },
  "language_info": {
   "codemirror_mode": {
    "name": "ipython",
    "version": 3
   },
   "file_extension": ".py",
   "mimetype": "text/x-python",
   "name": "python",
   "nbconvert_exporter": "python",
   "pygments_lexer": "ipython3",
   "version": "3.10.4"
  }
 },
 "nbformat": 4,
 "nbformat_minor": 5
}
