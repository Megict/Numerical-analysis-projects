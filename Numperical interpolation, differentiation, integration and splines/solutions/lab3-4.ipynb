{
 "cells": [
  {
   "cell_type": "code",
   "execution_count": 3,
   "metadata": {},
   "outputs": [],
   "source": [
    "import numpy as np"
   ]
  },
  {
   "cell_type": "code",
   "execution_count": 4,
   "metadata": {},
   "outputs": [],
   "source": [
    "x = var(\"x\")"
   ]
  },
  {
   "cell_type": "code",
   "execution_count": 5,
   "metadata": {},
   "outputs": [],
   "source": [
    "pts = [[-0.2,1.7722],\n",
    "       [0.0,1.5708],\n",
    "       [0.2,1.3694],\n",
    "       [0.4,1.1593],\n",
    "       [0.6,0.9273]]"
   ]
  },
  {
   "cell_type": "code",
   "execution_count": 6,
   "metadata": {},
   "outputs": [
    {
     "data": {
      "image/png": "[encoded data removed]",
      "text/plain": [
       "Graphics object consisting of 5 graphics primitives"
      ]
     },
     "metadata": {},
     "output_type": "display_data"
    }
   ],
   "source": [
    "plt = point(pts[0],color = \"red\",size = 20)\n",
    "for i in range(1, len(pts)):\n",
    "    plt += point(pts[i],color = \"red\",size = 20) \n",
    "show(plt,ymin = 0)"
   ]
  },
  {
   "cell_type": "code",
   "execution_count": null,
   "metadata": {},
   "outputs": [],
   "source": []
  },
  {
   "cell_type": "code",
   "execution_count": 2,
   "metadata": {},
   "outputs": [],
   "source": [
    "def s_numeric_derivative(pts,i):\n",
    "    \n",
    "    ptsA = np.array(pts)\n",
    "    X = ptsA[:,0]\n",
    "    Y = ptsA[:,1]\n",
    "    \n",
    "    \n",
    "    res = (Y[i+1] - Y[i])/(X[i+1] - X[i]) \n",
    "    \n",
    "    return res\n",
    "\n",
    "def numeric_derivative(pts,i):\n",
    "    \n",
    "    ptsA = np.array(pts)\n",
    "    X = ptsA[:,0]\n",
    "    Y = ptsA[:,1]\n",
    "    \n",
    "    \n",
    "    res = (Y[i+1] - Y[i])/(X[i+1] - X[i]) \n",
    "    rf = (((Y[i+2] - Y[i+1])/(X[i+2] - X[i+1])) - res) / (X[i+2] - X[i])\n",
    "                                        \n",
    "    rf*=(2*x - X[i] - X[i + 1])\n",
    "    \n",
    "    return res + rf\n",
    "    \n",
    "def numeric_derivative_2(pts,i):\n",
    "    \n",
    "    ptsA = np.array(pts)\n",
    "    X = ptsA[:,0]\n",
    "    Y = ptsA[:,1]\n",
    "    \n",
    "    \n",
    "    res = ((Y[i+2] - Y[i+1])/(X[i+2] - X[i+1]) - (Y[i+1] - Y[i])/(X[i+1] - X[i])) / (X[i+2] - X[i])\n",
    "    \n",
    "    return 2*res"
   ]
  },
  {
   "cell_type": "code",
   "execution_count": 42,
   "metadata": {},
   "outputs": [
    {
     "data": {
      "text/plain": [
       "-0.21749999999999825"
      ]
     },
     "execution_count": 42,
     "metadata": {},
     "output_type": "execute_result"
    }
   ],
   "source": [
    "numeric_derivative_2(pts,1)"
   ]
  },
  {
   "cell_type": "code",
   "execution_count": 1,
   "metadata": {},
   "outputs": [],
   "source": [
    "def formt_for_show(pts):\n",
    "    res = []\n",
    "    for a in pts:\n",
    "        res.append((a[0].n(digits = 2),a[1].n(digits = 2)))\n",
    "    return res \n",
    "\n",
    "def points_to_plot(pts):\n",
    "    pl = point(pts[0],color = \"red\",size = 20)\n",
    "    for i in range(1,len(pts)):\n",
    "        pl += point(pts[i],color = \"red\",size = 20)\n",
    "    return pl\n",
    "\n",
    "##можно использовать функции для сплайна, потому что что то, что то – набор функций по промежуткам \n",
    "def spline_to_plot(splfnc,pts,color): #собирает из системы функций сплайна готовый график\n",
    "    pltf = plot(func[0],xmin = pts[0][0],xmax = pts[1][0],color = color)\n",
    "    for i in range(1,len(pts) -1):\n",
    "        pltf += plot(splfnc[i],xmin = pts[i][0],xmax = pts[i+1][0],color = color)\n",
    "    return pltf\n",
    "\n",
    "def val_of_spline(funcsys,pts,pt): #вычисление значения сплайна от точки\n",
    "    for i in range(len(pts) - 1):\n",
    "        if(pts[i][0] < pt and pts[i + 1][0] >= pt):\n",
    "            return funcsys[i](x = pt)\n",
    "    else:\n",
    "        return false"
   ]
  },
  {
   "cell_type": "code",
   "execution_count": 51,
   "metadata": {},
   "outputs": [],
   "source": [
    "func = []\n",
    "for i in range(0, len(pts) - 2):\n",
    "    func.append(numeric_derivative(pts,i))\n",
    "    \n",
    "func2 = []\n",
    "for i in range(0, len(pts) - 2):\n",
    "    func2.append(numeric_derivative_2(pts,i))"
   ]
  },
  {
   "cell_type": "code",
   "execution_count": 46,
   "metadata": {},
   "outputs": [
    {
     "data": {
      "text/plain": [
       "5"
      ]
     },
     "execution_count": 46,
     "metadata": {},
     "output_type": "execute_result"
    }
   ],
   "source": [
    "len(pts)"
   ]
  },
  {
   "cell_type": "code",
   "execution_count": 80,
   "metadata": {},
   "outputs": [
    {
     "data": {
      "image/png": "[encoded data removed]",
      "text/plain": [
       "Graphics object consisting of 13 graphics primitives"
      ]
     },
     "metadata": {},
     "output_type": "display_data"
    }
   ],
   "source": [
    "plt = point(pts[0],color = \"red\",size = 20)\n",
    "for i in range(1, len(pts)):\n",
    "    plt += point(pts[i],color = \"red\",size = 20) \n",
    "show(plt + \n",
    "     plot(s_numeric_derivative(pts,0),xmin = pts[0][0],xmax = pts[1][0],color = \"green\") +\n",
    "     plot(s_numeric_derivative(pts,1),xmin = pts[1][0],xmax = pts[2][0],color = \"green\") +\n",
    "     plot(s_numeric_derivative(pts,2),xmin = pts[2][0],xmax = pts[3][0],color = \"green\") +\n",
    "     plot(s_numeric_derivative(pts,3),xmin = pts[3][0],xmax = pts[4][0],color = \"green\") +\n",
    "     plot(drf,xmin = -0.2,xmax = 0.6,color = \"grey\") + \n",
    "     plot(numeric_derivative_2(pts,0),xmin = pts[0][0],xmax = pts[1][0]) +\n",
    "     plot(numeric_derivative_2(pts,1),xmin = pts[1][0],xmax = pts[2][0]) +\n",
    "     plot(numeric_derivative_2(pts,2),xmin = pts[2][0],xmax = pts[3][0])\n",
    "     ,ymin = -3,ymax = 2)"
   ]
  },
  {
   "cell_type": "code",
   "execution_count": 81,
   "metadata": {},
   "outputs": [
    {
     "data": {
      "text/html": [
       "<html><script type=\"math/tex; mode=display\">\\newcommand{\\Bold}[1]{\\mathbf{#1}}\\verb|Производная|\\phantom{\\verb!x!}\\verb|в|\\phantom{\\verb!x!}\\verb|точке|\\phantom{\\verb!x!}\\verb|0.2|</script></html>"
      ],
      "text/latex": [
       "\\begin{math}\n",
       "\\newcommand{\\Bold}[1]{\\mathbf{#1}}\\verb|Производная|\\phantom{\\verb!x!}\\verb|в|\\phantom{\\verb!x!}\\verb|точке|\\phantom{\\verb!x!}\\verb|0.2|\n",
       "\\end{math}"
      ],
      "text/plain": [
       "'Производная в точке 0.2'"
      ]
     },
     "metadata": {},
     "output_type": "display_data"
    },
    {
     "data": {
      "text/html": [
       "<html><script type=\"math/tex; mode=display\">\\newcommand{\\Bold}[1]{\\mathbf{#1}}-1.02875</script></html>"
      ],
      "text/latex": [
       "\\begin{math}\n",
       "\\newcommand{\\Bold}[1]{\\mathbf{#1}}-1.02875\n",
       "\\end{math}"
      ],
      "text/plain": [
       "-1.02875"
      ]
     },
     "metadata": {},
     "output_type": "display_data"
    }
   ],
   "source": [
    "show(\"Первая производная в точке 0.2\")\n",
    "show(val_of_spline(func,np.array(pts)[0:4],0.2))"
   ]
  },
  {
   "cell_type": "code",
   "execution_count": 87,
   "metadata": {},
   "outputs": [
    {
     "data": {
      "text/html": [
       "<html><script type=\"math/tex; mode=display\">\\newcommand{\\Bold}[1]{\\mathbf{#1}}\\verb|Вторая|\\phantom{\\verb!x!}\\verb|производная|\\phantom{\\verb!x!}\\verb|в|\\phantom{\\verb!x!}\\verb|точке|\\phantom{\\verb!x!}\\verb|0.2|</script></html>"
      ],
      "text/latex": [
       "\\begin{math}\n",
       "\\newcommand{\\Bold}[1]{\\mathbf{#1}}\\verb|Вторая|\\phantom{\\verb!x!}\\verb|производная|\\phantom{\\verb!x!}\\verb|в|\\phantom{\\verb!x!}\\verb|точке|\\phantom{\\verb!x!}\\verb|0.2|\n",
       "\\end{math}"
      ],
      "text/plain": [
       "'Вторая производная в точке 0.2'"
      ]
     },
     "metadata": {},
     "output_type": "display_data"
    },
    {
     "data": {
      "text/html": [
       "<html><script type=\"math/tex; mode=display\">\\newcommand{\\Bold}[1]{\\mathbf{#1}}-0.21749999999999825</script></html>"
      ],
      "text/latex": [
       "\\begin{math}\n",
       "\\newcommand{\\Bold}[1]{\\mathbf{#1}}-0.21749999999999825\n",
       "\\end{math}"
      ],
      "text/plain": [
       "-0.21749999999999825"
      ]
     },
     "metadata": {},
     "output_type": "display_data"
    }
   ],
   "source": [
    "show(\"Вторая производная в точке 0.2\")\n",
    "show(func2[1])"
   ]
  },
  {
   "cell_type": "code",
   "execution_count": null,
   "metadata": {},
   "outputs": [],
   "source": []
  },
  {
   "cell_type": "code",
   "execution_count": null,
   "metadata": {},
   "outputs": [],
   "source": []
  },
  {
   "cell_type": "code",
   "execution_count": 27,
   "metadata": {},
   "outputs": [],
   "source": [
    "f = Least_squares(pts,2)"
   ]
  },
  {
   "cell_type": "code",
   "execution_count": 28,
   "metadata": {},
   "outputs": [],
   "source": [
    "drf = f.derivative()"
   ]
  },
  {
   "cell_type": "code",
   "execution_count": 29,
   "metadata": {},
   "outputs": [
    {
     "data": {
      "image/png": "[encoded data removed]",
      "text/plain": [
       "Graphics object consisting of 6 graphics primitives"
      ]
     },
     "metadata": {},
     "output_type": "display_data"
    }
   ],
   "source": [
    "plt = point(pts[0],color = \"red\",size = 20)\n",
    "for i in range(1, len(pts)):\n",
    "    plt += point(pts[i],color = \"red\",size = 20) \n",
    "show(plt + plot(f),ymin = 1,ymax = 1.6,xmin = -0.22,xmax = 0.62)"
   ]
  },
  {
   "cell_type": "code",
   "execution_count": 30,
   "metadata": {},
   "outputs": [],
   "source": [
    "def Least_squares(pts,n): #порядок приближаемой функции    \n",
    "    \n",
    "    N = len(pts) #число точек\n",
    "\n",
    "    ptsA = np.array(pts)\n",
    "    X = ptsA[:,0]\n",
    "    Y = ptsA[:,1]\n",
    "    n+=1\n",
    "\n",
    "    names = \"\" #инициализация переменных\n",
    "    for i in range (n):\n",
    "        names += \"a\" + (str(i)) + \" \"\n",
    "    a = var(names)\n",
    "    \n",
    "    eqsys = [] #построение системы\n",
    "\n",
    "    for k in range (n):\n",
    "        eqls = 0\n",
    "        eqrs = 0\n",
    "        for i in range(n):\n",
    "            eqa = 0\n",
    "            for j in range(N):\n",
    "                eqa += X[j]**(i+k)\n",
    "\n",
    "            #eqls *= eqa\n",
    "\n",
    "            eqls += a[i]*eqa\n",
    "\n",
    "        for j in range(N):\n",
    "            eqrs += Y[j]*(X[j]**k)\n",
    "\n",
    "        eqsys.append(eqls == eqrs)\n",
    "        \n",
    "    sols = solve(eqsys,a) #решение системы\n",
    "    \n",
    "    func = 0\n",
    "    for i in range(len(sols[0])):\n",
    "        func += sols[0][i].rhs()*x**i\n",
    "        \n",
    "    return func"
   ]
  },
  {
   "cell_type": "code",
   "execution_count": null,
   "metadata": {},
   "outputs": [],
   "source": []
  }
 ],
 "metadata": {
  "kernelspec": {
   "display_name": "SageMath 9.2",
   "language": "sage",
   "name": "sagemath"
  },
  "language_info": {
   "codemirror_mode": {
    "name": "ipython",
    "version": 3
   },
   "file_extension": ".py",
   "mimetype": "text/x-python",
   "name": "python",
   "nbconvert_exporter": "python",
   "pygments_lexer": "ipython3",
   "version": "3.7.7"
  }
 },
 "nbformat": 4,
 "nbformat_minor": 4
}
